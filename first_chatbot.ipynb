{
 "cells": [
  {
   "cell_type": "code",
   "execution_count": 1,
   "metadata": {},
   "outputs": [
    {
     "ename": "IndentationError",
     "evalue": "unexpected indent (<ipython-input-1-f522e24dfd72>, line 17)",
     "output_type": "error",
     "traceback": [
      "\u001b[1;36m  File \u001b[1;32m\"<ipython-input-1-f522e24dfd72>\"\u001b[1;36m, line \u001b[1;32m17\u001b[0m\n\u001b[1;33m    if res == 'a':\u001b[0m\n\u001b[1;37m    ^\u001b[0m\n\u001b[1;31mIndentationError\u001b[0m\u001b[1;31m:\u001b[0m unexpected indent\n"
     ]
    }
   ],
   "source": [
    "def coffee_bot():\n",
    "\n",
    "    # 커피봇이 시작될 때 나올 문구\n",
    "    print(\"Welcome to the cafe!\")\n",
    "\n",
    "    # 커피봇에 저장되지 않은 답을 고객이 말했을 때 띄울 메시지\n",
    "    def print_message():\n",
    "        print(\"I\\'m sorry, I did not understand your selection. Please enter the corresponding letter for your response.\")\n",
    "\n",
    "\n",
    "    # 사이즈 선택 함수\n",
    "    def get_size():\n",
    "      # 커피봇: 사이즈 질문\n",
    "      res = input('What size drink can I get for you? \\n[a] Small \\n[b] Medium \\n[c] Large \\n> ')\n",
    "\n",
    "      # 고객: 사이즈 답변\n",
    "        if res == 'a':\n",
    "            return 'small'\n",
    "        elif res == 'b':\n",
    "            return 'medium'\n",
    "        elif res == 'c':\n",
    "            return 'large'\n",
    "      # 예외 답변\n",
    "        else:\n",
    "            print_message()\n",
    "            return get_size()\n",
    "\n",
    "\n",
    "  # 메뉴 질문 함수\n",
    "    def get_drink_type():\n",
    "        #커피봇: 메뉴 질문\n",
    "        res = input('What type of drink would you like? \\n[a] Brewed Coffee \\n[b] Mocha \\n[c] Latte \\n> ')\n",
    "\n",
    "        # 고객: 메뉴 선택\n",
    "        if res == 'a':\n",
    "            return 'brewed coffee'\n",
    "        elif res == 'b':\n",
    "            return 'mocha'\n",
    "        elif res == 'c':\n",
    "            return order_latte()\n",
    "        else:\n",
    "            print_message()\n",
    "            return get_drink_type\n",
    "\n",
    "    def order_latte():\n",
    "        res = input(\"And what kind of milk for your latte? \\n[a] 2% milk \\n[b] Non-fat milk \\n[c] Soy milk \\n>\")\n",
    "        if res == 'a':\n",
    "            return 'latte'\n",
    "        elif res == 'b':\n",
    "            return 'non-fat latte'\n",
    "        elif res == 'c':\n",
    "            return 'soy latte'\n",
    "        # 예외 답변\n",
    "        else:\n",
    "            print_message()\n",
    "            return order_latte()\n",
    "\n",
    "\n",
    "    # size 변수에 위에서 선택한 사이즈 답변 저장\n",
    "    size = get_size()\n",
    "    # print(size)\n",
    "\n",
    "    # drink_type 변수에 위에서 선택한 메뉴 저장\n",
    "    drink_type = get_drink_type()\n",
    "    # print(drink_type)\n",
    "\n",
    "\n",
    "    # 모든 선택 마친 후 챗봇이 할 말 출력\n",
    "    print(\"Alright, that's a \" + str(size) + \" \"+ str(drink_type) +\"!\")\n",
    "  \n",
    "    where_drink = input(\"You drink here? or to go? \\n>\")\n",
    "    print(\"OK.\")\n",
    "\n",
    "    name = input(\"Can I get your name please? \\n>\")\n",
    "    print(\"Thanks, \"+ name + \"! Your drink will be ready shortly.\")\n",
    "  \n",
    "\n",
    "    # 커피봇 완성---------------------------------------------------------------------------------\n",
    "\n",
    "\n",
    "# Call coffee_bot()!\n",
    "# 커피봇 호출해서 대화 시작!\n",
    "coffee_bot()\n"
   ]
  },
  {
   "cell_type": "code",
   "execution_count": null,
   "metadata": {},
   "outputs": [],
   "source": []
  }
 ],
 "metadata": {
  "kernelspec": {
   "display_name": "Python 3",
   "language": "python",
   "name": "python3"
  },
  "language_info": {
   "codemirror_mode": {
    "name": "ipython",
    "version": 3
   },
   "file_extension": ".py",
   "mimetype": "text/x-python",
   "name": "python",
   "nbconvert_exporter": "python",
   "pygments_lexer": "ipython3",
   "version": "3.7.5"
  },
  "toc": {
   "base_numbering": 1,
   "nav_menu": {},
   "number_sections": true,
   "sideBar": true,
   "skip_h1_title": false,
   "title_cell": "Table of Contents",
   "title_sidebar": "Contents",
   "toc_cell": false,
   "toc_position": {},
   "toc_section_display": true,
   "toc_window_display": false
  },
  "varInspector": {
   "cols": {
    "lenName": 16,
    "lenType": 16,
    "lenVar": 40
   },
   "kernels_config": {
    "python": {
     "delete_cmd_postfix": "",
     "delete_cmd_prefix": "del ",
     "library": "var_list.py",
     "varRefreshCmd": "print(var_dic_list())"
    },
    "r": {
     "delete_cmd_postfix": ") ",
     "delete_cmd_prefix": "rm(",
     "library": "var_list.r",
     "varRefreshCmd": "cat(var_dic_list()) "
    }
   },
   "types_to_exclude": [
    "module",
    "function",
    "builtin_function_or_method",
    "instance",
    "_Feature"
   ],
   "window_display": false
  }
 },
 "nbformat": 4,
 "nbformat_minor": 2
}
